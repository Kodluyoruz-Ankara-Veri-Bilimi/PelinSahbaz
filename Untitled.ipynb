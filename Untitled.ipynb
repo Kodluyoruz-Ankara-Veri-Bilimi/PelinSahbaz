{
 "cells": [
  {
   "cell_type": "code",
   "execution_count": null,
   "metadata": {},
   "outputs": [],
   "source": [
    "import numpy as np \n",
    "import pandas as pd \n",
    "import matplotlib.pyplot as plt \n",
    "import seaborn as sns\n",
    "\n",
    "class Information():\n",
    "    \n",
    "    def __init__(self, name, DataType, size):\n",
    "        print(\"....\")\n",
    "        self.name = name\n",
    "        self.DataType = DataType\n",
    "        self.size = size\n",
    "\n",
    "class Visualize(): \n",
    "    \n",
    "    def __init__(self):\n",
    "               \n",
    "    def scatter(self,X,y,...):\n",
    "        \n",
    "    def displot():\n",
    "        \n",
    "    def heatmap():\n",
    "        \n",
    "    def hist():\n",
    "        \n",
    "    def subplots():\n",
    "        \n",
    "        \n",
    "class preprocessing:\n",
    "    \n",
    "    def __init__(self):    \n",
    "    def cleaning():   \n",
    "    def cat_encoding():         \n",
    "    def fillna():       \n",
    "    def dummy_encoding():        \n",
    "    def splitting():       \n",
    "    def outlier():       \n",
    "    def scaling():\n",
    "\n",
    "        \n",
    "class GridsearchCV():\n",
    "    def __init__(self):"
   ]
  }
 ],
 "metadata": {
  "kernelspec": {
   "display_name": "Python 3",
   "language": "python",
   "name": "python3"
  },
  "language_info": {
   "codemirror_mode": {
    "name": "ipython",
    "version": 3
   },
   "file_extension": ".py",
   "mimetype": "text/x-python",
   "name": "python",
   "nbconvert_exporter": "python",
   "pygments_lexer": "ipython3",
   "version": "3.7.6"
  }
 },
 "nbformat": 4,
 "nbformat_minor": 4
}
